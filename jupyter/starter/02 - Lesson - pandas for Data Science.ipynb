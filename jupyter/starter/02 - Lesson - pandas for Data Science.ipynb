{
 "cells": [
  {
   "cell_type": "markdown",
   "id": "5e05fcb6",
   "metadata": {},
   "source": [
    "# pandas for Data Science"
   ]
  },
  {
   "cell_type": "markdown",
   "id": "4e7ccae0",
   "metadata": {},
   "source": [
    "![Data Science Workflow](img/ds-workflow.png)"
   ]
  },
  {
   "cell_type": "markdown",
   "id": "96e9f9b5",
   "metadata": {},
   "source": [
    "## pandas\n",
    "- When working with tabular data (spreadsheets, databases, etc) **pandas** is the right tool\n",
    "- **pandas** makes it easy to acquire, explore, clean, process, analyze, and visualize your data\n",
    "- This basically covers the full Data Science process"
   ]
  },
  {
   "cell_type": "markdown",
   "id": "79e640ca",
   "metadata": {},
   "source": [
    "## pandas help\n",
    "- **pandas** is a large tool but also complex\n",
    "- **pandas** can do (almost) everything with data\n",
    "    - if you can do it in Excel, you can do it in **pandas**\n",
    "- **pandas** has a great [Cheat Sheet](https://pandas.pydata.org/Pandas_Cheat_Sheet.pdf) to help you\n",
    "- **pandas** also has great [tutorials](https://pandas.pydata.org/docs/getting_started/index.html)"
   ]
  },
  {
   "cell_type": "markdown",
   "id": "b398f8b1",
   "metadata": {},
   "source": [
    "## What will we cover here?\n",
    "- Some insights into **DataFrames** (the main datastructure in **pandas**)\n",
    "- How to work with data"
   ]
  },
  {
   "cell_type": "markdown",
   "id": "ad409e9b",
   "metadata": {},
   "source": [
    "## This course also covers\n",
    "- Later we will dive into how **pandas** can get data from various sources\n",
    "    - Web Scraping, Databases, CSV, Parquet, Excel files\n",
    "- How to combine data from different sources\n",
    "- How to deal with missing data"
   ]
  },
  {
   "cell_type": "markdown",
   "id": "19862fd2",
   "metadata": {},
   "source": [
    "## Getting started with pandas\n",
    "- **pandas** is installed by default in anaconda (JuPyter Notebooks)\n",
    "- In other environments you can install it with\n",
    "    - ```pip install pandas```\n",
    "- To access **pandas** you need to import it\n",
    "    - ```import pandas as pd```"
   ]
  },
  {
   "cell_type": "code",
   "execution_count": 1,
   "id": "4a1e9c13",
   "metadata": {},
   "outputs": [],
   "source": [
    "import pandas as pd"
   ]
  },
  {
   "cell_type": "markdown",
   "id": "8ab16529",
   "metadata": {},
   "source": [
    "### What is pandas?\n",
    "- **pandas** is like an Excel sheet - just better\n",
    "- to learn pandas, let's play with some data"
   ]
  },
  {
   "cell_type": "markdown",
   "id": "a42cc090",
   "metadata": {},
   "source": [
    "### Read data from CSV\n",
    "- What is CSV? See this lecture ([Lecture on CSV](https://youtu.be/LEyojSOg4EI))\n",
    "- ```pd.read_csv(filename, parse_dates, index_col)``` ([docs](https://pandas.pydata.org/docs/reference/api/pandas.read_csv.html))\n",
    "    - ```filename```: The path to the filename\n",
    "    - ```parse_dates=True```: If True -> try parsing the index (default False)\n",
    "    - ```index_col=0```: Set the index to be column 0"
   ]
  },
  {
   "cell_type": "code",
   "execution_count": 8,
   "id": "115c1eb3",
   "metadata": {},
   "outputs": [],
   "source": [
    "data=pd.read_csv('files/aapl.csv',parse_dates=True, index_col=0)"
   ]
  },
  {
   "cell_type": "code",
   "execution_count": null,
   "id": "f65f2b2e",
   "metadata": {},
   "outputs": [],
   "source": []
  },
  {
   "cell_type": "markdown",
   "id": "7133a464",
   "metadata": {},
   "source": [
    "### Always check data\n",
    "- The ```.head()```: prints the first 5 columns"
   ]
  },
  {
   "cell_type": "code",
   "execution_count": 9,
   "id": "9cd27b76",
   "metadata": {},
   "outputs": [
    {
     "data": {
      "text/html": [
       "<div>\n",
       "<style scoped>\n",
       "    .dataframe tbody tr th:only-of-type {\n",
       "        vertical-align: middle;\n",
       "    }\n",
       "\n",
       "    .dataframe tbody tr th {\n",
       "        vertical-align: top;\n",
       "    }\n",
       "\n",
       "    .dataframe thead th {\n",
       "        text-align: right;\n",
       "    }\n",
       "</style>\n",
       "<table border=\"1\" class=\"dataframe\">\n",
       "  <thead>\n",
       "    <tr style=\"text-align: right;\">\n",
       "      <th></th>\n",
       "      <th>High</th>\n",
       "      <th>Low</th>\n",
       "      <th>Open</th>\n",
       "      <th>Close</th>\n",
       "      <th>Volume</th>\n",
       "      <th>Adj Close</th>\n",
       "    </tr>\n",
       "    <tr>\n",
       "      <th>Date</th>\n",
       "      <th></th>\n",
       "      <th></th>\n",
       "      <th></th>\n",
       "      <th></th>\n",
       "      <th></th>\n",
       "      <th></th>\n",
       "    </tr>\n",
       "  </thead>\n",
       "  <tbody>\n",
       "    <tr>\n",
       "      <th>2020-01-02</th>\n",
       "      <td>75.150002</td>\n",
       "      <td>73.797501</td>\n",
       "      <td>74.059998</td>\n",
       "      <td>75.087502</td>\n",
       "      <td>135480400.0</td>\n",
       "      <td>73.988464</td>\n",
       "    </tr>\n",
       "    <tr>\n",
       "      <th>2020-01-03</th>\n",
       "      <td>75.144997</td>\n",
       "      <td>74.125000</td>\n",
       "      <td>74.287498</td>\n",
       "      <td>74.357498</td>\n",
       "      <td>146322800.0</td>\n",
       "      <td>73.269150</td>\n",
       "    </tr>\n",
       "    <tr>\n",
       "      <th>2020-01-06</th>\n",
       "      <td>74.989998</td>\n",
       "      <td>73.187500</td>\n",
       "      <td>73.447502</td>\n",
       "      <td>74.949997</td>\n",
       "      <td>118387200.0</td>\n",
       "      <td>73.852982</td>\n",
       "    </tr>\n",
       "    <tr>\n",
       "      <th>2020-01-07</th>\n",
       "      <td>75.224998</td>\n",
       "      <td>74.370003</td>\n",
       "      <td>74.959999</td>\n",
       "      <td>74.597504</td>\n",
       "      <td>108872000.0</td>\n",
       "      <td>73.505653</td>\n",
       "    </tr>\n",
       "    <tr>\n",
       "      <th>2020-01-08</th>\n",
       "      <td>76.110001</td>\n",
       "      <td>74.290001</td>\n",
       "      <td>74.290001</td>\n",
       "      <td>75.797501</td>\n",
       "      <td>132079200.0</td>\n",
       "      <td>74.688080</td>\n",
       "    </tr>\n",
       "  </tbody>\n",
       "</table>\n",
       "</div>"
      ],
      "text/plain": [
       "                 High        Low       Open      Close       Volume  Adj Close\n",
       "Date                                                                          \n",
       "2020-01-02  75.150002  73.797501  74.059998  75.087502  135480400.0  73.988464\n",
       "2020-01-03  75.144997  74.125000  74.287498  74.357498  146322800.0  73.269150\n",
       "2020-01-06  74.989998  73.187500  73.447502  74.949997  118387200.0  73.852982\n",
       "2020-01-07  75.224998  74.370003  74.959999  74.597504  108872000.0  73.505653\n",
       "2020-01-08  76.110001  74.290001  74.290001  75.797501  132079200.0  74.688080"
      ]
     },
     "execution_count": 9,
     "metadata": {},
     "output_type": "execute_result"
    }
   ],
   "source": [
    "\n",
    "data.head()"
   ]
  },
  {
   "cell_type": "code",
   "execution_count": null,
   "id": "0a8d023a",
   "metadata": {},
   "outputs": [],
   "source": []
  },
  {
   "cell_type": "markdown",
   "id": "a36c7fb7",
   "metadata": {},
   "source": [
    "## Index and columns\n",
    "- ```.index```: Returns the index\n",
    "- ```.columns```: Returns the column names in a list"
   ]
  },
  {
   "cell_type": "code",
   "execution_count": 10,
   "id": "382ea11f",
   "metadata": {},
   "outputs": [
    {
     "data": {
      "text/plain": [
       "DatetimeIndex(['2020-01-02', '2020-01-03', '2020-01-06', '2020-01-07',\n",
       "               '2020-01-08', '2020-01-09', '2020-01-10', '2020-01-13',\n",
       "               '2020-01-14', '2020-01-15',\n",
       "               ...\n",
       "               '2021-11-01', '2021-11-02', '2021-11-03', '2021-11-04',\n",
       "               '2021-11-05', '2021-11-08', '2021-11-09', '2021-11-10',\n",
       "               '2021-11-11', '2021-11-12'],\n",
       "              dtype='datetime64[ns]', name='Date', length=472, freq=None)"
      ]
     },
     "execution_count": 10,
     "metadata": {},
     "output_type": "execute_result"
    }
   ],
   "source": [
    "data.index"
   ]
  },
  {
   "cell_type": "code",
   "execution_count": 11,
   "id": "253f66b0",
   "metadata": {},
   "outputs": [
    {
     "data": {
      "text/plain": [
       "Index(['High', 'Low', 'Open', 'Close', 'Volume', 'Adj Close'], dtype='object')"
      ]
     },
     "execution_count": 11,
     "metadata": {},
     "output_type": "execute_result"
    }
   ],
   "source": [
    "data.columns"
   ]
  },
  {
   "cell_type": "markdown",
   "id": "ccef5fd1",
   "metadata": {},
   "source": [
    "## Each column has a data type\n",
    "- ```.dtypes```: Returns the data types of each column"
   ]
  },
  {
   "cell_type": "code",
   "execution_count": 13,
   "id": "56020da4",
   "metadata": {},
   "outputs": [
    {
     "data": {
      "text/plain": [
       "High         float64\n",
       "Low          float64\n",
       "Open         float64\n",
       "Close        float64\n",
       "Volume       float64\n",
       "Adj Close    float64\n",
       "dtype: object"
      ]
     },
     "execution_count": 13,
     "metadata": {},
     "output_type": "execute_result"
    }
   ],
   "source": [
    "data.dtypes"
   ]
  },
  {
   "cell_type": "code",
   "execution_count": null,
   "id": "86f37684",
   "metadata": {},
   "outputs": [],
   "source": []
  },
  {
   "cell_type": "markdown",
   "id": "d968baea",
   "metadata": {},
   "source": [
    "## The size and shape of data\n",
    "- ```len(data)```: gives the number of rows in the DataFrame\n",
    "- ```.shape```: Returns the number of rows and columns in the DataFrame"
   ]
  },
  {
   "cell_type": "code",
   "execution_count": 14,
   "id": "117a7c11",
   "metadata": {},
   "outputs": [
    {
     "data": {
      "text/plain": [
       "472"
      ]
     },
     "execution_count": 14,
     "metadata": {},
     "output_type": "execute_result"
    }
   ],
   "source": [
    "len(data)"
   ]
  },
  {
   "cell_type": "code",
   "execution_count": 15,
   "id": "9ce67694",
   "metadata": {},
   "outputs": [
    {
     "data": {
      "text/plain": [
       "(472, 6)"
      ]
     },
     "execution_count": 15,
     "metadata": {},
     "output_type": "execute_result"
    }
   ],
   "source": [
    "data.shape"
   ]
  },
  {
   "cell_type": "markdown",
   "id": "3efce186",
   "metadata": {},
   "source": [
    "## Slicing rows and columns\n",
    "- ```data['Close']```: Select one column (Series)\n",
    "- ```data[['Open', 'Close']]```: Select multiple columns with specific names\n",
    "- ```data.loc['2020-05-01':'2021-05-01']```: Select all columns between the dates (including 2021-05-01)\n",
    "- ```data.iloc[50:55]```: Select all columns between rows 50-55 (excluding 55)"
   ]
  },
  {
   "cell_type": "code",
   "execution_count": 16,
   "id": "4b74ebcb",
   "metadata": {},
   "outputs": [
    {
     "data": {
      "text/plain": [
       "Date\n",
       "2020-01-02     75.087502\n",
       "2020-01-03     74.357498\n",
       "2020-01-06     74.949997\n",
       "2020-01-07     74.597504\n",
       "2020-01-08     75.797501\n",
       "                 ...    \n",
       "2021-11-08    150.440002\n",
       "2021-11-09    150.809998\n",
       "2021-11-10    147.919998\n",
       "2021-11-11    147.869995\n",
       "2021-11-12    149.990005\n",
       "Name: Close, Length: 472, dtype: float64"
      ]
     },
     "execution_count": 16,
     "metadata": {},
     "output_type": "execute_result"
    }
   ],
   "source": [
    "data['Close']"
   ]
  },
  {
   "cell_type": "code",
   "execution_count": 17,
   "id": "f8fceb23",
   "metadata": {},
   "outputs": [
    {
     "data": {
      "text/html": [
       "<div>\n",
       "<style scoped>\n",
       "    .dataframe tbody tr th:only-of-type {\n",
       "        vertical-align: middle;\n",
       "    }\n",
       "\n",
       "    .dataframe tbody tr th {\n",
       "        vertical-align: top;\n",
       "    }\n",
       "\n",
       "    .dataframe thead th {\n",
       "        text-align: right;\n",
       "    }\n",
       "</style>\n",
       "<table border=\"1\" class=\"dataframe\">\n",
       "  <thead>\n",
       "    <tr style=\"text-align: right;\">\n",
       "      <th></th>\n",
       "      <th>Close</th>\n",
       "      <th>Volume</th>\n",
       "    </tr>\n",
       "    <tr>\n",
       "      <th>Date</th>\n",
       "      <th></th>\n",
       "      <th></th>\n",
       "    </tr>\n",
       "  </thead>\n",
       "  <tbody>\n",
       "    <tr>\n",
       "      <th>2020-01-02</th>\n",
       "      <td>75.087502</td>\n",
       "      <td>135480400.0</td>\n",
       "    </tr>\n",
       "    <tr>\n",
       "      <th>2020-01-03</th>\n",
       "      <td>74.357498</td>\n",
       "      <td>146322800.0</td>\n",
       "    </tr>\n",
       "    <tr>\n",
       "      <th>2020-01-06</th>\n",
       "      <td>74.949997</td>\n",
       "      <td>118387200.0</td>\n",
       "    </tr>\n",
       "    <tr>\n",
       "      <th>2020-01-07</th>\n",
       "      <td>74.597504</td>\n",
       "      <td>108872000.0</td>\n",
       "    </tr>\n",
       "    <tr>\n",
       "      <th>2020-01-08</th>\n",
       "      <td>75.797501</td>\n",
       "      <td>132079200.0</td>\n",
       "    </tr>\n",
       "    <tr>\n",
       "      <th>...</th>\n",
       "      <td>...</td>\n",
       "      <td>...</td>\n",
       "    </tr>\n",
       "    <tr>\n",
       "      <th>2021-11-08</th>\n",
       "      <td>150.440002</td>\n",
       "      <td>55020900.0</td>\n",
       "    </tr>\n",
       "    <tr>\n",
       "      <th>2021-11-09</th>\n",
       "      <td>150.809998</td>\n",
       "      <td>56787900.0</td>\n",
       "    </tr>\n",
       "    <tr>\n",
       "      <th>2021-11-10</th>\n",
       "      <td>147.919998</td>\n",
       "      <td>65187100.0</td>\n",
       "    </tr>\n",
       "    <tr>\n",
       "      <th>2021-11-11</th>\n",
       "      <td>147.869995</td>\n",
       "      <td>41000000.0</td>\n",
       "    </tr>\n",
       "    <tr>\n",
       "      <th>2021-11-12</th>\n",
       "      <td>149.990005</td>\n",
       "      <td>63632600.0</td>\n",
       "    </tr>\n",
       "  </tbody>\n",
       "</table>\n",
       "<p>472 rows × 2 columns</p>\n",
       "</div>"
      ],
      "text/plain": [
       "                 Close       Volume\n",
       "Date                               \n",
       "2020-01-02   75.087502  135480400.0\n",
       "2020-01-03   74.357498  146322800.0\n",
       "2020-01-06   74.949997  118387200.0\n",
       "2020-01-07   74.597504  108872000.0\n",
       "2020-01-08   75.797501  132079200.0\n",
       "...                ...          ...\n",
       "2021-11-08  150.440002   55020900.0\n",
       "2021-11-09  150.809998   56787900.0\n",
       "2021-11-10  147.919998   65187100.0\n",
       "2021-11-11  147.869995   41000000.0\n",
       "2021-11-12  149.990005   63632600.0\n",
       "\n",
       "[472 rows x 2 columns]"
      ]
     },
     "execution_count": 17,
     "metadata": {},
     "output_type": "execute_result"
    }
   ],
   "source": [
    "data[['Close','Volume']]"
   ]
  },
  {
   "cell_type": "code",
   "execution_count": 21,
   "id": "a99f6465",
   "metadata": {},
   "outputs": [
    {
     "data": {
      "text/html": [
       "<div>\n",
       "<style scoped>\n",
       "    .dataframe tbody tr th:only-of-type {\n",
       "        vertical-align: middle;\n",
       "    }\n",
       "\n",
       "    .dataframe tbody tr th {\n",
       "        vertical-align: top;\n",
       "    }\n",
       "\n",
       "    .dataframe thead th {\n",
       "        text-align: right;\n",
       "    }\n",
       "</style>\n",
       "<table border=\"1\" class=\"dataframe\">\n",
       "  <thead>\n",
       "    <tr style=\"text-align: right;\">\n",
       "      <th></th>\n",
       "      <th>High</th>\n",
       "      <th>Low</th>\n",
       "      <th>Open</th>\n",
       "      <th>Close</th>\n",
       "      <th>Volume</th>\n",
       "      <th>Adj Close</th>\n",
       "    </tr>\n",
       "    <tr>\n",
       "      <th>Date</th>\n",
       "      <th></th>\n",
       "      <th></th>\n",
       "      <th></th>\n",
       "      <th></th>\n",
       "      <th></th>\n",
       "      <th></th>\n",
       "    </tr>\n",
       "  </thead>\n",
       "  <tbody>\n",
       "    <tr>\n",
       "      <th>2021-01-04</th>\n",
       "      <td>133.610001</td>\n",
       "      <td>126.760002</td>\n",
       "      <td>133.520004</td>\n",
       "      <td>129.410004</td>\n",
       "      <td>143301900.0</td>\n",
       "      <td>128.617111</td>\n",
       "    </tr>\n",
       "    <tr>\n",
       "      <th>2021-01-05</th>\n",
       "      <td>131.740005</td>\n",
       "      <td>128.429993</td>\n",
       "      <td>128.889999</td>\n",
       "      <td>131.009995</td>\n",
       "      <td>97664900.0</td>\n",
       "      <td>130.207291</td>\n",
       "    </tr>\n",
       "    <tr>\n",
       "      <th>2021-01-06</th>\n",
       "      <td>131.050003</td>\n",
       "      <td>126.379997</td>\n",
       "      <td>127.720001</td>\n",
       "      <td>126.599998</td>\n",
       "      <td>155088000.0</td>\n",
       "      <td>125.824326</td>\n",
       "    </tr>\n",
       "    <tr>\n",
       "      <th>2021-01-07</th>\n",
       "      <td>131.630005</td>\n",
       "      <td>127.860001</td>\n",
       "      <td>128.360001</td>\n",
       "      <td>130.919998</td>\n",
       "      <td>109578200.0</td>\n",
       "      <td>130.117844</td>\n",
       "    </tr>\n",
       "  </tbody>\n",
       "</table>\n",
       "</div>"
      ],
      "text/plain": [
       "                  High         Low        Open       Close       Volume  \\\n",
       "Date                                                                      \n",
       "2021-01-04  133.610001  126.760002  133.520004  129.410004  143301900.0   \n",
       "2021-01-05  131.740005  128.429993  128.889999  131.009995   97664900.0   \n",
       "2021-01-06  131.050003  126.379997  127.720001  126.599998  155088000.0   \n",
       "2021-01-07  131.630005  127.860001  128.360001  130.919998  109578200.0   \n",
       "\n",
       "             Adj Close  \n",
       "Date                    \n",
       "2021-01-04  128.617111  \n",
       "2021-01-05  130.207291  \n",
       "2021-01-06  125.824326  \n",
       "2021-01-07  130.117844  "
      ]
     },
     "execution_count": 21,
     "metadata": {},
     "output_type": "execute_result"
    }
   ],
   "source": [
    "data.loc['2021-01-04':'2021-01-07']"
   ]
  },
  {
   "cell_type": "code",
   "execution_count": 22,
   "id": "3e139d5a",
   "metadata": {},
   "outputs": [
    {
     "data": {
      "text/html": [
       "<div>\n",
       "<style scoped>\n",
       "    .dataframe tbody tr th:only-of-type {\n",
       "        vertical-align: middle;\n",
       "    }\n",
       "\n",
       "    .dataframe tbody tr th {\n",
       "        vertical-align: top;\n",
       "    }\n",
       "\n",
       "    .dataframe thead th {\n",
       "        text-align: right;\n",
       "    }\n",
       "</style>\n",
       "<table border=\"1\" class=\"dataframe\">\n",
       "  <thead>\n",
       "    <tr style=\"text-align: right;\">\n",
       "      <th></th>\n",
       "      <th>High</th>\n",
       "      <th>Low</th>\n",
       "      <th>Open</th>\n",
       "      <th>Close</th>\n",
       "      <th>Volume</th>\n",
       "      <th>Adj Close</th>\n",
       "    </tr>\n",
       "    <tr>\n",
       "      <th>Date</th>\n",
       "      <th></th>\n",
       "      <th></th>\n",
       "      <th></th>\n",
       "      <th></th>\n",
       "      <th></th>\n",
       "      <th></th>\n",
       "    </tr>\n",
       "  </thead>\n",
       "  <tbody>\n",
       "    <tr>\n",
       "      <th>2020-01-31</th>\n",
       "      <td>80.669998</td>\n",
       "      <td>77.072502</td>\n",
       "      <td>80.232498</td>\n",
       "      <td>77.377502</td>\n",
       "      <td>199588400.0</td>\n",
       "      <td>76.244957</td>\n",
       "    </tr>\n",
       "    <tr>\n",
       "      <th>2020-02-03</th>\n",
       "      <td>78.372498</td>\n",
       "      <td>75.555000</td>\n",
       "      <td>76.074997</td>\n",
       "      <td>77.165001</td>\n",
       "      <td>173788400.0</td>\n",
       "      <td>76.035561</td>\n",
       "    </tr>\n",
       "    <tr>\n",
       "      <th>2020-02-04</th>\n",
       "      <td>79.910004</td>\n",
       "      <td>78.407501</td>\n",
       "      <td>78.827499</td>\n",
       "      <td>79.712502</td>\n",
       "      <td>136616400.0</td>\n",
       "      <td>78.545776</td>\n",
       "    </tr>\n",
       "    <tr>\n",
       "      <th>2020-02-05</th>\n",
       "      <td>81.190002</td>\n",
       "      <td>79.737503</td>\n",
       "      <td>80.879997</td>\n",
       "      <td>80.362503</td>\n",
       "      <td>118826800.0</td>\n",
       "      <td>79.186264</td>\n",
       "    </tr>\n",
       "  </tbody>\n",
       "</table>\n",
       "</div>"
      ],
      "text/plain": [
       "                 High        Low       Open      Close       Volume  Adj Close\n",
       "Date                                                                          \n",
       "2020-01-31  80.669998  77.072502  80.232498  77.377502  199588400.0  76.244957\n",
       "2020-02-03  78.372498  75.555000  76.074997  77.165001  173788400.0  76.035561\n",
       "2020-02-04  79.910004  78.407501  78.827499  79.712502  136616400.0  78.545776\n",
       "2020-02-05  81.190002  79.737503  80.879997  80.362503  118826800.0  79.186264"
      ]
     },
     "execution_count": 22,
     "metadata": {},
     "output_type": "execute_result"
    }
   ],
   "source": [
    "data.iloc[20:24]"
   ]
  },
  {
   "cell_type": "code",
   "execution_count": null,
   "id": "2610632d",
   "metadata": {},
   "outputs": [],
   "source": []
  },
  {
   "cell_type": "markdown",
   "id": "89aa38df",
   "metadata": {},
   "source": [
    "## Arithmetic operations\n",
    "- Calculating with columns on all rows\n",
    "    - Example: ```data['Close'] - data['Open']```\n",
    "- Creating new columns\n",
    "    - Example: ```data['New'] = data['Open'] - data['Close']```"
   ]
  },
  {
   "cell_type": "code",
   "execution_count": 23,
   "id": "9bcaa94e",
   "metadata": {},
   "outputs": [
    {
     "data": {
      "text/plain": [
       "Date\n",
       "2020-01-02    1.027504\n",
       "2020-01-03    0.070000\n",
       "2020-01-06    1.502495\n",
       "2020-01-07   -0.362495\n",
       "2020-01-08    1.507500\n",
       "                ...   \n",
       "2021-11-08   -0.970001\n",
       "2021-11-09    0.610001\n",
       "2021-11-10   -2.100006\n",
       "2021-11-11   -1.090012\n",
       "2021-11-12    1.560013\n",
       "Length: 472, dtype: float64"
      ]
     },
     "execution_count": 23,
     "metadata": {},
     "output_type": "execute_result"
    }
   ],
   "source": [
    "data[\"Close\"]-data[\"Open\"]"
   ]
  },
  {
   "cell_type": "code",
   "execution_count": 24,
   "id": "2b02c415",
   "metadata": {},
   "outputs": [],
   "source": [
    "data['New']=data[\"Close\"]-data[\"Open\"]"
   ]
  },
  {
   "cell_type": "code",
   "execution_count": 26,
   "id": "258217b1",
   "metadata": {},
   "outputs": [
    {
     "data": {
      "text/html": [
       "<div>\n",
       "<style scoped>\n",
       "    .dataframe tbody tr th:only-of-type {\n",
       "        vertical-align: middle;\n",
       "    }\n",
       "\n",
       "    .dataframe tbody tr th {\n",
       "        vertical-align: top;\n",
       "    }\n",
       "\n",
       "    .dataframe thead th {\n",
       "        text-align: right;\n",
       "    }\n",
       "</style>\n",
       "<table border=\"1\" class=\"dataframe\">\n",
       "  <thead>\n",
       "    <tr style=\"text-align: right;\">\n",
       "      <th></th>\n",
       "      <th>High</th>\n",
       "      <th>Low</th>\n",
       "      <th>Open</th>\n",
       "      <th>Close</th>\n",
       "      <th>Volume</th>\n",
       "      <th>Adj Close</th>\n",
       "      <th>New</th>\n",
       "    </tr>\n",
       "    <tr>\n",
       "      <th>Date</th>\n",
       "      <th></th>\n",
       "      <th></th>\n",
       "      <th></th>\n",
       "      <th></th>\n",
       "      <th></th>\n",
       "      <th></th>\n",
       "      <th></th>\n",
       "    </tr>\n",
       "  </thead>\n",
       "  <tbody>\n",
       "    <tr>\n",
       "      <th>2020-01-02</th>\n",
       "      <td>75.150002</td>\n",
       "      <td>73.797501</td>\n",
       "      <td>74.059998</td>\n",
       "      <td>75.087502</td>\n",
       "      <td>135480400.0</td>\n",
       "      <td>73.988464</td>\n",
       "      <td>1.027504</td>\n",
       "    </tr>\n",
       "    <tr>\n",
       "      <th>2020-01-03</th>\n",
       "      <td>75.144997</td>\n",
       "      <td>74.125000</td>\n",
       "      <td>74.287498</td>\n",
       "      <td>74.357498</td>\n",
       "      <td>146322800.0</td>\n",
       "      <td>73.269150</td>\n",
       "      <td>0.070000</td>\n",
       "    </tr>\n",
       "    <tr>\n",
       "      <th>2020-01-06</th>\n",
       "      <td>74.989998</td>\n",
       "      <td>73.187500</td>\n",
       "      <td>73.447502</td>\n",
       "      <td>74.949997</td>\n",
       "      <td>118387200.0</td>\n",
       "      <td>73.852982</td>\n",
       "      <td>1.502495</td>\n",
       "    </tr>\n",
       "    <tr>\n",
       "      <th>2020-01-07</th>\n",
       "      <td>75.224998</td>\n",
       "      <td>74.370003</td>\n",
       "      <td>74.959999</td>\n",
       "      <td>74.597504</td>\n",
       "      <td>108872000.0</td>\n",
       "      <td>73.505653</td>\n",
       "      <td>-0.362495</td>\n",
       "    </tr>\n",
       "    <tr>\n",
       "      <th>2020-01-08</th>\n",
       "      <td>76.110001</td>\n",
       "      <td>74.290001</td>\n",
       "      <td>74.290001</td>\n",
       "      <td>75.797501</td>\n",
       "      <td>132079200.0</td>\n",
       "      <td>74.688080</td>\n",
       "      <td>1.507500</td>\n",
       "    </tr>\n",
       "  </tbody>\n",
       "</table>\n",
       "</div>"
      ],
      "text/plain": [
       "                 High        Low       Open      Close       Volume  \\\n",
       "Date                                                                  \n",
       "2020-01-02  75.150002  73.797501  74.059998  75.087502  135480400.0   \n",
       "2020-01-03  75.144997  74.125000  74.287498  74.357498  146322800.0   \n",
       "2020-01-06  74.989998  73.187500  73.447502  74.949997  118387200.0   \n",
       "2020-01-07  75.224998  74.370003  74.959999  74.597504  108872000.0   \n",
       "2020-01-08  76.110001  74.290001  74.290001  75.797501  132079200.0   \n",
       "\n",
       "            Adj Close       New  \n",
       "Date                             \n",
       "2020-01-02  73.988464  1.027504  \n",
       "2020-01-03  73.269150  0.070000  \n",
       "2020-01-06  73.852982  1.502495  \n",
       "2020-01-07  73.505653 -0.362495  \n",
       "2020-01-08  74.688080  1.507500  "
      ]
     },
     "execution_count": 26,
     "metadata": {},
     "output_type": "execute_result"
    }
   ],
   "source": [
    "data.head()"
   ]
  },
  {
   "cell_type": "code",
   "execution_count": null,
   "id": "53c38697",
   "metadata": {},
   "outputs": [],
   "source": []
  },
  {
   "cell_type": "markdown",
   "id": "ed584388",
   "metadata": {},
   "source": [
    "## Select data\n",
    "- Select data based boolean expressions\n",
    "    - Example: ```data['New'] > 0```\n",
    "    - Example: ```data[data['New'] > 0]```"
   ]
  },
  {
   "cell_type": "code",
   "execution_count": 27,
   "id": "c2b740f9",
   "metadata": {},
   "outputs": [
    {
     "data": {
      "text/plain": [
       "Date\n",
       "2020-01-02     True\n",
       "2020-01-03     True\n",
       "2020-01-06     True\n",
       "2020-01-07    False\n",
       "2020-01-08     True\n",
       "              ...  \n",
       "2021-11-08    False\n",
       "2021-11-09     True\n",
       "2021-11-10    False\n",
       "2021-11-11    False\n",
       "2021-11-12     True\n",
       "Name: New, Length: 472, dtype: bool"
      ]
     },
     "execution_count": 27,
     "metadata": {},
     "output_type": "execute_result"
    }
   ],
   "source": [
    "data['New']>0"
   ]
  },
  {
   "cell_type": "code",
   "execution_count": 28,
   "id": "9081925e",
   "metadata": {},
   "outputs": [
    {
     "data": {
      "text/html": [
       "<div>\n",
       "<style scoped>\n",
       "    .dataframe tbody tr th:only-of-type {\n",
       "        vertical-align: middle;\n",
       "    }\n",
       "\n",
       "    .dataframe tbody tr th {\n",
       "        vertical-align: top;\n",
       "    }\n",
       "\n",
       "    .dataframe thead th {\n",
       "        text-align: right;\n",
       "    }\n",
       "</style>\n",
       "<table border=\"1\" class=\"dataframe\">\n",
       "  <thead>\n",
       "    <tr style=\"text-align: right;\">\n",
       "      <th></th>\n",
       "      <th>High</th>\n",
       "      <th>Low</th>\n",
       "      <th>Open</th>\n",
       "      <th>Close</th>\n",
       "      <th>Volume</th>\n",
       "      <th>Adj Close</th>\n",
       "      <th>New</th>\n",
       "    </tr>\n",
       "    <tr>\n",
       "      <th>Date</th>\n",
       "      <th></th>\n",
       "      <th></th>\n",
       "      <th></th>\n",
       "      <th></th>\n",
       "      <th></th>\n",
       "      <th></th>\n",
       "      <th></th>\n",
       "    </tr>\n",
       "  </thead>\n",
       "  <tbody>\n",
       "    <tr>\n",
       "      <th>2020-01-02</th>\n",
       "      <td>75.150002</td>\n",
       "      <td>73.797501</td>\n",
       "      <td>74.059998</td>\n",
       "      <td>75.087502</td>\n",
       "      <td>135480400.0</td>\n",
       "      <td>73.988464</td>\n",
       "      <td>1.027504</td>\n",
       "    </tr>\n",
       "    <tr>\n",
       "      <th>2020-01-03</th>\n",
       "      <td>75.144997</td>\n",
       "      <td>74.125000</td>\n",
       "      <td>74.287498</td>\n",
       "      <td>74.357498</td>\n",
       "      <td>146322800.0</td>\n",
       "      <td>73.269150</td>\n",
       "      <td>0.070000</td>\n",
       "    </tr>\n",
       "    <tr>\n",
       "      <th>2020-01-06</th>\n",
       "      <td>74.989998</td>\n",
       "      <td>73.187500</td>\n",
       "      <td>73.447502</td>\n",
       "      <td>74.949997</td>\n",
       "      <td>118387200.0</td>\n",
       "      <td>73.852982</td>\n",
       "      <td>1.502495</td>\n",
       "    </tr>\n",
       "    <tr>\n",
       "      <th>2020-01-08</th>\n",
       "      <td>76.110001</td>\n",
       "      <td>74.290001</td>\n",
       "      <td>74.290001</td>\n",
       "      <td>75.797501</td>\n",
       "      <td>132079200.0</td>\n",
       "      <td>74.688080</td>\n",
       "      <td>1.507500</td>\n",
       "    </tr>\n",
       "    <tr>\n",
       "      <th>2020-01-09</th>\n",
       "      <td>77.607498</td>\n",
       "      <td>76.550003</td>\n",
       "      <td>76.809998</td>\n",
       "      <td>77.407501</td>\n",
       "      <td>170108400.0</td>\n",
       "      <td>76.274513</td>\n",
       "      <td>0.597504</td>\n",
       "    </tr>\n",
       "    <tr>\n",
       "      <th>...</th>\n",
       "      <td>...</td>\n",
       "      <td>...</td>\n",
       "      <td>...</td>\n",
       "      <td>...</td>\n",
       "      <td>...</td>\n",
       "      <td>...</td>\n",
       "      <td>...</td>\n",
       "    </tr>\n",
       "    <tr>\n",
       "      <th>2021-10-29</th>\n",
       "      <td>149.940002</td>\n",
       "      <td>146.410004</td>\n",
       "      <td>147.220001</td>\n",
       "      <td>149.800003</td>\n",
       "      <td>124850400.0</td>\n",
       "      <td>149.581696</td>\n",
       "      <td>2.580002</td>\n",
       "    </tr>\n",
       "    <tr>\n",
       "      <th>2021-11-02</th>\n",
       "      <td>151.570007</td>\n",
       "      <td>148.649994</td>\n",
       "      <td>148.660004</td>\n",
       "      <td>150.020004</td>\n",
       "      <td>69122000.0</td>\n",
       "      <td>149.801376</td>\n",
       "      <td>1.360001</td>\n",
       "    </tr>\n",
       "    <tr>\n",
       "      <th>2021-11-03</th>\n",
       "      <td>151.970001</td>\n",
       "      <td>149.820007</td>\n",
       "      <td>150.389999</td>\n",
       "      <td>151.490005</td>\n",
       "      <td>54511500.0</td>\n",
       "      <td>151.269241</td>\n",
       "      <td>1.100006</td>\n",
       "    </tr>\n",
       "    <tr>\n",
       "      <th>2021-11-09</th>\n",
       "      <td>151.429993</td>\n",
       "      <td>150.059998</td>\n",
       "      <td>150.199997</td>\n",
       "      <td>150.809998</td>\n",
       "      <td>56787900.0</td>\n",
       "      <td>150.809998</td>\n",
       "      <td>0.610001</td>\n",
       "    </tr>\n",
       "    <tr>\n",
       "      <th>2021-11-12</th>\n",
       "      <td>150.399994</td>\n",
       "      <td>147.479996</td>\n",
       "      <td>148.429993</td>\n",
       "      <td>149.990005</td>\n",
       "      <td>63632600.0</td>\n",
       "      <td>149.990005</td>\n",
       "      <td>1.560013</td>\n",
       "    </tr>\n",
       "  </tbody>\n",
       "</table>\n",
       "<p>249 rows × 7 columns</p>\n",
       "</div>"
      ],
      "text/plain": [
       "                  High         Low        Open       Close       Volume  \\\n",
       "Date                                                                      \n",
       "2020-01-02   75.150002   73.797501   74.059998   75.087502  135480400.0   \n",
       "2020-01-03   75.144997   74.125000   74.287498   74.357498  146322800.0   \n",
       "2020-01-06   74.989998   73.187500   73.447502   74.949997  118387200.0   \n",
       "2020-01-08   76.110001   74.290001   74.290001   75.797501  132079200.0   \n",
       "2020-01-09   77.607498   76.550003   76.809998   77.407501  170108400.0   \n",
       "...                ...         ...         ...         ...          ...   \n",
       "2021-10-29  149.940002  146.410004  147.220001  149.800003  124850400.0   \n",
       "2021-11-02  151.570007  148.649994  148.660004  150.020004   69122000.0   \n",
       "2021-11-03  151.970001  149.820007  150.389999  151.490005   54511500.0   \n",
       "2021-11-09  151.429993  150.059998  150.199997  150.809998   56787900.0   \n",
       "2021-11-12  150.399994  147.479996  148.429993  149.990005   63632600.0   \n",
       "\n",
       "             Adj Close       New  \n",
       "Date                              \n",
       "2020-01-02   73.988464  1.027504  \n",
       "2020-01-03   73.269150  0.070000  \n",
       "2020-01-06   73.852982  1.502495  \n",
       "2020-01-08   74.688080  1.507500  \n",
       "2020-01-09   76.274513  0.597504  \n",
       "...                ...       ...  \n",
       "2021-10-29  149.581696  2.580002  \n",
       "2021-11-02  149.801376  1.360001  \n",
       "2021-11-03  151.269241  1.100006  \n",
       "2021-11-09  150.809998  0.610001  \n",
       "2021-11-12  149.990005  1.560013  \n",
       "\n",
       "[249 rows x 7 columns]"
      ]
     },
     "execution_count": 28,
     "metadata": {},
     "output_type": "execute_result"
    }
   ],
   "source": [
    "data[data['New']>0]"
   ]
  },
  {
   "cell_type": "code",
   "execution_count": null,
   "id": "ee4cf1ec",
   "metadata": {},
   "outputs": [],
   "source": []
  },
  {
   "cell_type": "markdown",
   "id": "8782b68e",
   "metadata": {},
   "source": [
    "## Groupby and value_counts\n",
    "- Example\n",
    "```Python\n",
    "data['Category'] = data['New'] > 0\n",
    "data.groupby('Category').mean()\n",
    "```\n",
    "- Example\n",
    "```Python\n",
    "data['Category'].value_counts()\n",
    "(data['New'] > 0).value_counts()\n",
    "```"
   ]
  },
  {
   "cell_type": "code",
   "execution_count": 29,
   "id": "ba0ac9fa",
   "metadata": {},
   "outputs": [
    {
     "data": {
      "text/html": [
       "<div>\n",
       "<style scoped>\n",
       "    .dataframe tbody tr th:only-of-type {\n",
       "        vertical-align: middle;\n",
       "    }\n",
       "\n",
       "    .dataframe tbody tr th {\n",
       "        vertical-align: top;\n",
       "    }\n",
       "\n",
       "    .dataframe thead th {\n",
       "        text-align: right;\n",
       "    }\n",
       "</style>\n",
       "<table border=\"1\" class=\"dataframe\">\n",
       "  <thead>\n",
       "    <tr style=\"text-align: right;\">\n",
       "      <th></th>\n",
       "      <th>High</th>\n",
       "      <th>Low</th>\n",
       "      <th>Open</th>\n",
       "      <th>Close</th>\n",
       "      <th>Volume</th>\n",
       "      <th>Adj Close</th>\n",
       "      <th>New</th>\n",
       "    </tr>\n",
       "    <tr>\n",
       "      <th>Category</th>\n",
       "      <th></th>\n",
       "      <th></th>\n",
       "      <th></th>\n",
       "      <th></th>\n",
       "      <th></th>\n",
       "      <th></th>\n",
       "      <th></th>\n",
       "    </tr>\n",
       "  </thead>\n",
       "  <tbody>\n",
       "    <tr>\n",
       "      <th>False</th>\n",
       "      <td>118.26620</td>\n",
       "      <td>115.529327</td>\n",
       "      <td>117.593958</td>\n",
       "      <td>116.201648</td>\n",
       "      <td>1.245267e+08</td>\n",
       "      <td>115.548601</td>\n",
       "      <td>-1.392310</td>\n",
       "    </tr>\n",
       "    <tr>\n",
       "      <th>True</th>\n",
       "      <td>113.79496</td>\n",
       "      <td>111.095170</td>\n",
       "      <td>111.814810</td>\n",
       "      <td>113.178203</td>\n",
       "      <td>1.260042e+08</td>\n",
       "      <td>112.481534</td>\n",
       "      <td>1.363393</td>\n",
       "    </tr>\n",
       "  </tbody>\n",
       "</table>\n",
       "</div>"
      ],
      "text/plain": [
       "               High         Low        Open       Close        Volume  \\\n",
       "Category                                                                \n",
       "False     118.26620  115.529327  117.593958  116.201648  1.245267e+08   \n",
       "True      113.79496  111.095170  111.814810  113.178203  1.260042e+08   \n",
       "\n",
       "           Adj Close       New  \n",
       "Category                        \n",
       "False     115.548601 -1.392310  \n",
       "True      112.481534  1.363393  "
      ]
     },
     "execution_count": 29,
     "metadata": {},
     "output_type": "execute_result"
    }
   ],
   "source": [
    "data['Category']=data['New']>0\n",
    "data.groupby('Category').mean()"
   ]
  },
  {
   "cell_type": "code",
   "execution_count": 31,
   "id": "fb3a35cf",
   "metadata": {},
   "outputs": [
    {
     "data": {
      "text/plain": [
       "True     249\n",
       "False    223\n",
       "Name: Category, dtype: int64"
      ]
     },
     "execution_count": 31,
     "metadata": {},
     "output_type": "execute_result"
    }
   ],
   "source": [
    "data['Category'].value_counts()"
   ]
  },
  {
   "cell_type": "code",
   "execution_count": null,
   "id": "e492ddf6",
   "metadata": {},
   "outputs": [],
   "source": []
  },
  {
   "cell_type": "code",
   "execution_count": null,
   "id": "94a580cc",
   "metadata": {},
   "outputs": [],
   "source": []
  },
  {
   "cell_type": "code",
   "execution_count": null,
   "id": "988298bc",
   "metadata": {},
   "outputs": [],
   "source": []
  }
 ],
 "metadata": {
  "kernelspec": {
   "display_name": "Python 3.10.4 64-bit",
   "language": "python",
   "name": "python3"
  },
  "language_info": {
   "codemirror_mode": {
    "name": "ipython",
    "version": 3
   },
   "file_extension": ".py",
   "mimetype": "text/x-python",
   "name": "python",
   "nbconvert_exporter": "python",
   "pygments_lexer": "ipython3",
   "version": "3.10.4"
  },
  "vscode": {
   "interpreter": {
    "hash": "369f2c481f4da34e4445cda3fffd2e751bd1c4d706f27375911949ba6bb62e1c"
   }
  }
 },
 "nbformat": 4,
 "nbformat_minor": 5
}
